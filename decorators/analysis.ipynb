{
  "nbformat": 4,
  "nbformat_minor": 0,
  "metadata": {
    "colab": {
      "provenance": []
    },
    "kernelspec": {
      "name": "python3",
      "display_name": "Python 3"
    },
    "language_info": {
      "name": "python"
    }
  },
  "cells": [
    {
      "cell_type": "markdown",
      "source": [
        "# Домашнее задание: декораторы"
      ],
      "metadata": {
        "id": "QY4qPJPpgyIS"
      }
    },
    {
      "cell_type": "markdown",
      "source": [
        "## Импорт библиотек, установка констант"
      ],
      "metadata": {
        "id": "Chacc6YchldZ"
      }
    },
    {
      "cell_type": "code",
      "source": [
        "import requests\n",
        "import time\n",
        "import re\n",
        "from random import randint"
      ],
      "metadata": {
        "id": "w8iKrWvwhrFd"
      },
      "execution_count": 1,
      "outputs": []
    },
    {
      "cell_type": "code",
      "source": [
        "BOOK_PATH = 'https://www.gutenberg.org/files/2638/2638-0.txt'"
      ],
      "metadata": {
        "id": "-LRkS0fSi8Np"
      },
      "execution_count": 2,
      "outputs": []
    },
    {
      "cell_type": "markdown",
      "source": [
        "## Задание 1"
      ],
      "metadata": {
        "id": "kARfL8ifg4MH"
      }
    },
    {
      "cell_type": "code",
      "execution_count": 3,
      "metadata": {
        "id": "hNHNWPhngrUl"
      },
      "outputs": [],
      "source": [
        "import time\n",
        "\n",
        "def benchmark(func):\n",
        "    \"\"\"\n",
        "    Декоратор, выводящий время, которое заняло выполнение декорируемой функции\n",
        "    \"\"\"\n",
        "\n",
        "    def wrapper(*args, **kwargs):\n",
        "        start = time.time()\n",
        "        res = func(*args, **kwargs)\n",
        "        print(f\"Время работы функции: {time.time() - start:.4f} sec\")\n",
        "        return res\n",
        "\n",
        "    return wrapper"
      ]
    },
    {
      "cell_type": "markdown",
      "source": [
        "## Задание 2"
      ],
      "metadata": {
        "id": "tGlbUKjihL5n"
      }
    },
    {
      "cell_type": "code",
      "source": [
        "def logging(func):\n",
        "    \"\"\"\n",
        "    Декоратор, который выводит параметры с которыми была вызвана функция\n",
        "    \"\"\"\n",
        "\n",
        "    def wrapper(*args, **kwargs):\n",
        "        print(f\"Вызываю функцию с параметрами:\")\n",
        "        print(f\"Позиционные: {args}\", f\"Именованные: {kwargs}\", sep='\\n')\n",
        "        return func(*args, **kwargs)\n",
        "\n",
        "    return wrapper"
      ],
      "metadata": {
        "id": "wugOZDLqhNe-"
      },
      "execution_count": 4,
      "outputs": []
    },
    {
      "cell_type": "markdown",
      "source": [
        "## Задание 3"
      ],
      "metadata": {
        "id": "Sq1tv5fshTfv"
      }
    },
    {
      "cell_type": "code",
      "source": [
        "def counter(func):\n",
        "    \"\"\"\n",
        "    Декоратор, считающий и выводящий количество вызовов декорируемой функции\n",
        "    \"\"\"\n",
        "\n",
        "    def wrapper(*args, **kwargs):\n",
        "        wrapper.cnt += 1\n",
        "        res = func(*args, **kwargs)\n",
        "        print(f\"Функция успешно вызвана {wrapper.cnt} раз{'а' if wrapper.cnt % 10 in [2, 3, 4] else ''}.\")\n",
        "        return res\n",
        "\n",
        "    wrapper.cnt = 0\n",
        "    return wrapper"
      ],
      "metadata": {
        "id": "9nyvuxXkhVeb"
      },
      "execution_count": 5,
      "outputs": []
    },
    {
      "cell_type": "markdown",
      "source": [
        "## Задание 4"
      ],
      "metadata": {
        "id": "uHn8Adfshz5q"
      }
    },
    {
      "cell_type": "code",
      "source": [
        "from collections import defaultdict\n",
        "\n",
        "def memo(func):\n",
        "  \"\"\"\n",
        "  Декоратор, запоминающий результаты исполнения функции func, чьи аргументы args должны быть хешируемыми\n",
        "  \"\"\"\n",
        "  cache = {}\n",
        "\n",
        "  def fmemo(*args):\n",
        "      if args in fmemo.cache:\n",
        "          return fmemo.cache[args]\n",
        "      else:\n",
        "          res = func(*args)\n",
        "          fmemo.cache[args] = res\n",
        "          return res\n",
        "\n",
        "  fmemo.cache = cache\n",
        "  return fmemo"
      ],
      "metadata": {
        "id": "R7uu6WtGifNX"
      },
      "execution_count": 6,
      "outputs": []
    },
    {
      "cell_type": "markdown",
      "source": [
        "## Тестирование"
      ],
      "metadata": {
        "id": "Zn5UQCa_izxo"
      }
    },
    {
      "cell_type": "code",
      "source": [
        "@counter\n",
        "@logging\n",
        "@benchmark\n",
        "def word_count(word, url=BOOK_PATH):\n",
        "    \"\"\"\n",
        "    Функция для посчета указанного слова на html-странице\n",
        "    \"\"\"\n",
        "\n",
        "    # отправляем запрос в библиотеку Gutenberg и забираем текст\n",
        "    raw = requests.get(url).text\n",
        "\n",
        "    # заменяем в тексте все небуквенные символы на пробелы\n",
        "    processed_book = re.sub('[\\W]+' , ' ', raw).lower()\n",
        "\n",
        "    # считаем\n",
        "    cnt = len(re.findall(word.lower(), processed_book))\n",
        "\n",
        "    return f\"Cлово {word} встречается {cnt} раз\"\n",
        "\n",
        "print(word_count('whole'))\n",
        "print(\"\\n-----------------\\n\")\n",
        "print(word_count('whole', url=BOOK_PATH))"
      ],
      "metadata": {
        "id": "CHCJ64I8i2QB",
        "colab": {
          "base_uri": "https://localhost:8080/"
        },
        "outputId": "55b80633-0d98-4ebf-b6a7-2003b0719877"
      },
      "execution_count": 11,
      "outputs": [
        {
          "output_type": "stream",
          "name": "stdout",
          "text": [
            "Вызываю функцию с параметрами:\n",
            "Позиционные: ('whole',)\n",
            "Именованные: {}\n",
            "Время работы функции: 0.3280 sec\n",
            "Функция успешно вызвана 1 раз.\n",
            "Cлово whole встречается 176 раз\n",
            "\n",
            "-----------------\n",
            "\n",
            "Вызываю функцию с параметрами:\n",
            "Позиционные: ('whole',)\n",
            "Именованные: {'url': 'https://www.gutenberg.org/files/2638/2638-0.txt'}\n",
            "Время работы функции: 0.3374 sec\n",
            "Функция успешно вызвана 2 раза.\n",
            "Cлово whole встречается 176 раз\n"
          ]
        }
      ]
    },
    {
      "cell_type": "code",
      "source": [
        "def fib(n):\n",
        "    if n < 2:\n",
        "        return n\n",
        "    return fib(n-2) + fib(n-1)"
      ],
      "metadata": {
        "id": "ZE4Rfn-hh3k3"
      },
      "execution_count": 19,
      "outputs": []
    },
    {
      "cell_type": "code",
      "source": [
        "for n in [10, 25, 35]:\n",
        "    benchmark(logging(fib))(n)\n",
        "    print(\"\\n-----------------\\n\")"
      ],
      "metadata": {
        "id": "Io94NyjiiXG4",
        "colab": {
          "base_uri": "https://localhost:8080/"
        },
        "outputId": "270a1ce1-347c-4a08-8317-91615e1681d9"
      },
      "execution_count": 20,
      "outputs": [
        {
          "output_type": "stream",
          "name": "stdout",
          "text": [
            "Вызываю функцию с параметрами:\n",
            "Позиционные: (10,)\n",
            "Именованные: {}\n",
            "Время работы функции: 0.0019 sec\n",
            "\n",
            "-----------------\n",
            "\n",
            "Вызываю функцию с параметрами:\n",
            "Позиционные: (25,)\n",
            "Именованные: {}\n",
            "Время работы функции: 0.0360 sec\n",
            "\n",
            "-----------------\n",
            "\n",
            "Вызываю функцию с параметрами:\n",
            "Позиционные: (35,)\n",
            "Именованные: {}\n",
            "Время работы функции: 3.6789 sec\n",
            "\n",
            "-----------------\n",
            "\n"
          ]
        }
      ]
    },
    {
      "cell_type": "code",
      "source": [
        "@memo\n",
        "def fib(n):\n",
        "    if n < 2:\n",
        "        return n\n",
        "    return fib(n-2) + fib(n-1)"
      ],
      "metadata": {
        "id": "W9B3e-t9iTUj"
      },
      "execution_count": 15,
      "outputs": []
    },
    {
      "cell_type": "code",
      "source": [
        "for n in [10, 25, 35]:\n",
        "    benchmark(logging(fib))(n)\n",
        "    print(\"\\n-----------------\\n\")"
      ],
      "metadata": {
        "id": "Sk6_4KQaidkh",
        "colab": {
          "base_uri": "https://localhost:8080/"
        },
        "outputId": "08016a2c-6419-4ed0-e9eb-a2e94cc6c9ed"
      },
      "execution_count": null,
      "outputs": [
        {
          "output_type": "stream",
          "name": "stdout",
          "text": [
            "Вызываю функцию с параметрами:\n",
            "Позиционные: (10,)\n",
            "Именованные: {}\n",
            "Время работы функции: 0.0005 sec\n",
            "\n",
            "-----------------\n",
            "\n",
            "Вызываю функцию с параметрами:\n",
            "Позиционные: (25,)\n",
            "Именованные: {}\n",
            "Время работы функции: 0.0001 sec\n",
            "\n",
            "-----------------\n",
            "\n",
            "Вызываю функцию с параметрами:\n",
            "Позиционные: (35,)\n",
            "Именованные: {}\n",
            "Время работы функции: 0.0001 sec\n",
            "\n",
            "-----------------\n",
            "\n"
          ]
        }
      ]
    }
  ]
}